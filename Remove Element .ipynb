{
 "cells": [
  {
   "cell_type": "code",
   "execution_count": 27,
   "id": "154abdc8",
   "metadata": {},
   "outputs": [],
   "source": [
    "def removeElement( nums: [int], val: int) -> int:\n",
    "    i = 0\n",
    "    for x in nums:\n",
    "        if x != val:\n",
    "            nums[i] = x\n",
    "            i +=1\n",
    "    print(nums)\n",
    "    return i\n",
    "        \n",
    "#this problem uses two pointers. one pointer always interages by 1 and pointer #2 interates only after a valid number "
   ]
  },
  {
   "cell_type": "code",
   "execution_count": 28,
   "id": "cc9e09c5",
   "metadata": {},
   "outputs": [
    {
     "name": "stdout",
     "output_type": "stream",
     "text": [
      "[1, 8, 4, 7, 1, 0, 1, 0]\n",
      "6\n"
     ]
    }
   ],
   "source": [
    "nums = [1,8,4,3,3,7,1,0]\n",
    "val = 3\n",
    "print(removeElement(nums,val))"
   ]
  },
  {
   "cell_type": "code",
   "execution_count": null,
   "id": "90e601d4",
   "metadata": {},
   "outputs": [],
   "source": []
  }
 ],
 "metadata": {
  "kernelspec": {
   "display_name": "Python 3",
   "language": "python",
   "name": "python3"
  },
  "language_info": {
   "codemirror_mode": {
    "name": "ipython",
    "version": 3
   },
   "file_extension": ".py",
   "mimetype": "text/x-python",
   "name": "python",
   "nbconvert_exporter": "python",
   "pygments_lexer": "ipython3",
   "version": "3.8.8"
  }
 },
 "nbformat": 4,
 "nbformat_minor": 5
}
