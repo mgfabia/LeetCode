{
 "cells": [
  {
   "cell_type": "code",
   "execution_count": 15,
   "id": "65b65f83",
   "metadata": {},
   "outputs": [],
   "source": [
    "def romanToInt(s: str) -> int:\n",
    "    \n",
    "    #dictionary of all roman numerals and their numerical values\n",
    "    _dict = {\n",
    "        \"I\" : 1,\n",
    "        \"V\" : 5,\n",
    "        \"X\" : 10,\n",
    "        \"L\" : 50,\n",
    "        \"C\" : 100,\n",
    "        \"D\" : 500,\n",
    "        \"M\" : 1000\n",
    "    }\n",
    "    #current pointer\n",
    "    curr = 0\n",
    "    #prev pointer\n",
    "    prev = 0\n",
    "    #sum\n",
    "    num = 0\n",
    "    \n",
    "    # reverse string and for each index in string s do the following\n",
    "    for i in s[::-1]:\n",
    "        #update current pointer\n",
    "        curr = _dict[i]\n",
    "        \n",
    "        #if prev index is greater than the current, subtract current position's\n",
    "        # value \n",
    "        if curr < prev:\n",
    "            num -= curr\n",
    "        #if previous position is less than or equal to the current,\n",
    "        # add the value of the current position \n",
    "        if prev <= curr:\n",
    "            num += curr\n",
    "            \n",
    "        #after every evaluation, prev must catch up to current position\n",
    "        prev = curr\n",
    "    return num\n",
    "    \n",
    "    \n",
    "    \n",
    "    \n",
    "    \n",
    "    \n",
    "    \n",
    "    \n",
    "    "
   ]
  },
  {
   "cell_type": "code",
   "execution_count": 16,
   "id": "ec951fb5",
   "metadata": {},
   "outputs": [
    {
     "name": "stdout",
     "output_type": "stream",
     "text": [
      "V\n",
      "I\n",
      "C\n",
      "X\n",
      "M\n",
      "C\n",
      "M\n",
      "1994\n"
     ]
    }
   ],
   "source": [
    "str = \"MCMXCIV\"\n",
    "print(romanToInt(str))"
   ]
  },
  {
   "cell_type": "code",
   "execution_count": null,
   "id": "1e105eaf",
   "metadata": {},
   "outputs": [],
   "source": []
  }
 ],
 "metadata": {
  "kernelspec": {
   "display_name": "Python 3",
   "language": "python",
   "name": "python3"
  },
  "language_info": {
   "codemirror_mode": {
    "name": "ipython",
    "version": 3
   },
   "file_extension": ".py",
   "mimetype": "text/x-python",
   "name": "python",
   "nbconvert_exporter": "python",
   "pygments_lexer": "ipython3",
   "version": "3.8.8"
  }
 },
 "nbformat": 4,
 "nbformat_minor": 5
}
