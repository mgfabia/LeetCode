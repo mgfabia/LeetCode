{
 "cells": [
  {
   "cell_type": "code",
   "execution_count": 33,
   "id": "e4b9b654",
   "metadata": {},
   "outputs": [],
   "source": [
    "#_dictionary[i] will give you the value \n",
    "# i will give you the key in the dictionary \n",
    "\n",
    "def IsValid( s: str) -> bool:\n",
    "\n",
    "        \n",
    "        stack = []\n",
    "        \n",
    "        # closing symbols are used as keys so that it is easy to \n",
    "        #determine if a value is a closing or opening symbol\n",
    "        _dict = {\n",
    "            \")\":\"(\",\n",
    "            \"}\":\"{\",\n",
    "            \"]\":\"[\"\n",
    "            }\n",
    "        \n",
    "       #for each index in string s \n",
    "        for i in s:\n",
    "            #if string index is a key in the dictionary\n",
    "            if i in _dict:\n",
    "                #if stack is populated and the top value in stack \n",
    "                # is equal to value in dictionary at i, then it is \n",
    "                # valid to pop \n",
    "                if stack and stack[-1] == _dict[i]:\n",
    "                    stack.pop()\n",
    "                else:\n",
    "                # stack is empty and the first index is a closing\n",
    "                # or top value on stack does not equal the value of i\n",
    "                    return False\n",
    "            else:\n",
    "                # index is an opening bracket \n",
    "                stack.append(i)\n",
    "        #return true if there is an even match of symbols \n",
    "        return stack == []\n",
    "       \n",
    "               "
   ]
  },
  {
   "cell_type": "code",
   "execution_count": 34,
   "id": "181d1cb8",
   "metadata": {},
   "outputs": [
    {
     "name": "stdout",
     "output_type": "stream",
     "text": [
      "True\n"
     ]
    }
   ],
   "source": [
    "str = \"()\"\n",
    "print(IsValid(str))\n"
   ]
  },
  {
   "cell_type": "code",
   "execution_count": null,
   "id": "c1cb9b4c",
   "metadata": {},
   "outputs": [],
   "source": []
  },
  {
   "cell_type": "code",
   "execution_count": null,
   "id": "e0d479c9",
   "metadata": {},
   "outputs": [],
   "source": []
  }
 ],
 "metadata": {
  "kernelspec": {
   "display_name": "Python 3",
   "language": "python",
   "name": "python3"
  },
  "language_info": {
   "codemirror_mode": {
    "name": "ipython",
    "version": 3
   },
   "file_extension": ".py",
   "mimetype": "text/x-python",
   "name": "python",
   "nbconvert_exporter": "python",
   "pygments_lexer": "ipython3",
   "version": "3.8.8"
  }
 },
 "nbformat": 4,
 "nbformat_minor": 5
}
