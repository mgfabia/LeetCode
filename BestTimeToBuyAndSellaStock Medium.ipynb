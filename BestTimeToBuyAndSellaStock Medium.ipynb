{
 "cells": [
  {
   "cell_type": "code",
   "execution_count": 4,
   "id": "17a9a5ef",
   "metadata": {},
   "outputs": [],
   "source": [
    "def maxProfit(prices: [int]) -> int:\n",
    "    left = 0 \n",
    "    current = 1\n",
    "    profit = 0\n",
    "    \n",
    "    for current in range(len(prices)):\n",
    "        if prices[current] > prices[left]:\n",
    "            profit += prices[current] - prices[left]\n",
    "        left = current\n",
    "    return profit\n"
   ]
  },
  {
   "cell_type": "code",
   "execution_count": 5,
   "id": "d9c99c9f",
   "metadata": {},
   "outputs": [
    {
     "name": "stdout",
     "output_type": "stream",
     "text": [
      "7\n"
     ]
    }
   ],
   "source": [
    "str = [7,1,5,3,6,4]\n",
    "print(maxProfit(str))"
   ]
  },
  {
   "cell_type": "code",
   "execution_count": null,
   "id": "13182fcb",
   "metadata": {},
   "outputs": [],
   "source": []
  }
 ],
 "metadata": {
  "kernelspec": {
   "display_name": "Python 3",
   "language": "python",
   "name": "python3"
  },
  "language_info": {
   "codemirror_mode": {
    "name": "ipython",
    "version": 3
   },
   "file_extension": ".py",
   "mimetype": "text/x-python",
   "name": "python",
   "nbconvert_exporter": "python",
   "pygments_lexer": "ipython3",
   "version": "3.8.8"
  }
 },
 "nbformat": 4,
 "nbformat_minor": 5
}
