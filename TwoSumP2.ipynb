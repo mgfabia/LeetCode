{
 "cells": [
  {
   "cell_type": "code",
   "execution_count": 4,
   "id": "ab44e5e1",
   "metadata": {},
   "outputs": [],
   "source": [
    "def twoSum( nums:[int], target: int) -> [int]:\n",
    "    #using a map to backtrace preveously met numbers \n",
    "    prevMap ={}\n",
    "    for i,n in enumerate(nums):\n",
    "        diff = target - n\n",
    "        if diff in prevMap:\n",
    "            return [prevMap[diff],i]\n",
    "        prevMap[n] = i"
   ]
  },
  {
   "cell_type": "code",
   "execution_count": 5,
   "id": "fa87c427",
   "metadata": {},
   "outputs": [
    {
     "name": "stdout",
     "output_type": "stream",
     "text": [
      "[0, 1]\n"
     ]
    }
   ],
   "source": [
    "numbers = [2,7,11,15]\n",
    "target = 9\n",
    "print(twoSum(numbers,target))"
   ]
  },
  {
   "cell_type": "code",
   "execution_count": null,
   "id": "53f53313",
   "metadata": {},
   "outputs": [],
   "source": []
  }
 ],
 "metadata": {
  "kernelspec": {
   "display_name": "Python 3",
   "language": "python",
   "name": "python3"
  },
  "language_info": {
   "codemirror_mode": {
    "name": "ipython",
    "version": 3
   },
   "file_extension": ".py",
   "mimetype": "text/x-python",
   "name": "python",
   "nbconvert_exporter": "python",
   "pygments_lexer": "ipython3",
   "version": "3.8.8"
  }
 },
 "nbformat": 4,
 "nbformat_minor": 5
}
