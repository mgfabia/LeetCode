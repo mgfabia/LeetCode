{
 "cells": [
  {
   "cell_type": "code",
   "execution_count": 3,
   "id": "d6e43002",
   "metadata": {},
   "outputs": [],
   "source": [
    "   def isValid( s: str) -> bool:\n",
    "        \n",
    "        stack = []\n",
    "        dict = {\"]\":\"[\", \"}\":\"{\", \")\":\"(\"}\n",
    "        \n",
    "        for char in s:\n",
    "            if char in dict.values():\n",
    "                stack.append(char)\n",
    "            elif char in dict.keys():\n",
    "                    if stack == [] or dict[char] != stack.pop():\n",
    "                        return False\n",
    "                    \n",
    "            else: \n",
    "                return False \n",
    "        return stack == []"
   ]
  },
  {
   "cell_type": "code",
   "execution_count": 4,
   "id": "6e086d14",
   "metadata": {},
   "outputs": [
    {
     "name": "stdout",
     "output_type": "stream",
     "text": [
      "True\n"
     ]
    }
   ],
   "source": [
    "str = \"()\"\n",
    "print(isValid(str))"
   ]
  },
  {
   "cell_type": "code",
   "execution_count": null,
   "id": "ab2e4525",
   "metadata": {},
   "outputs": [],
   "source": []
  }
 ],
 "metadata": {
  "kernelspec": {
   "display_name": "Python 3",
   "language": "python",
   "name": "python3"
  },
  "language_info": {
   "codemirror_mode": {
    "name": "ipython",
    "version": 3
   },
   "file_extension": ".py",
   "mimetype": "text/x-python",
   "name": "python",
   "nbconvert_exporter": "python",
   "pygments_lexer": "ipython3",
   "version": "3.8.8"
  }
 },
 "nbformat": 4,
 "nbformat_minor": 5
}
