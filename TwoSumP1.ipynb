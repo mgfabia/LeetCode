{
 "cells": [
  {
   "cell_type": "code",
   "execution_count": 11,
   "id": "df5596b0",
   "metadata": {},
   "outputs": [],
   "source": [
    "def twoSum( nums:[int], target: int) -> [int]:\n",
    "        for i in range(len(nums)):\n",
    "            check = target - nums[i]\n",
    "            for j in range(i+1, len(nums)):\n",
    "                if nums[j] == check:\n",
    "                    return [i,j]"
   ]
  },
  {
   "cell_type": "code",
   "execution_count": 12,
   "id": "e724c821",
   "metadata": {},
   "outputs": [
    {
     "name": "stdout",
     "output_type": "stream",
     "text": [
      "[0, 1]\n"
     ]
    }
   ],
   "source": [
    "numbers = [2,7,11,15]\n",
    "target = 9\n",
    "print(twoSum(numbers,target))"
   ]
  },
  {
   "cell_type": "code",
   "execution_count": null,
   "id": "9640e751",
   "metadata": {},
   "outputs": [],
   "source": []
  },
  {
   "cell_type": "code",
   "execution_count": null,
   "id": "c03560ad",
   "metadata": {},
   "outputs": [],
   "source": []
  },
  {
   "cell_type": "code",
   "execution_count": null,
   "id": "5be2909f",
   "metadata": {},
   "outputs": [],
   "source": []
  }
 ],
 "metadata": {
  "kernelspec": {
   "display_name": "Python 3",
   "language": "python",
   "name": "python3"
  },
  "language_info": {
   "codemirror_mode": {
    "name": "ipython",
    "version": 3
   },
   "file_extension": ".py",
   "mimetype": "text/x-python",
   "name": "python",
   "nbconvert_exporter": "python",
   "pygments_lexer": "ipython3",
   "version": "3.8.8"
  }
 },
 "nbformat": 4,
 "nbformat_minor": 5
}
