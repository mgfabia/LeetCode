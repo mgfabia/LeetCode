{
 "cells": [
  {
   "cell_type": "code",
   "execution_count": 3,
   "id": "e25cc521",
   "metadata": {},
   "outputs": [],
   "source": [
    "\n",
    "def maxProfit( prices: [int]) -> int:\n",
    "        l = 0\n",
    "        r = 1\n",
    "        maxp = 0\n",
    "        while r < len(prices):\n",
    "            if prices[l] < prices[r]:\n",
    "                maxp = max(maxp, prices[r]-prices[l])\n",
    "            else:\n",
    "                l = r\n",
    "            r +=1\n",
    "        return maxp"
   ]
  },
  {
   "cell_type": "code",
   "execution_count": 4,
   "id": "ba78960f",
   "metadata": {},
   "outputs": [
    {
     "name": "stdout",
     "output_type": "stream",
     "text": [
      "5\n"
     ]
    }
   ],
   "source": [
    "arr = [7,1,5,3,6,4]\n",
    "print(maxProfit(arr))"
   ]
  },
  {
   "cell_type": "code",
   "execution_count": null,
   "id": "4aac21b1",
   "metadata": {},
   "outputs": [],
   "source": []
  }
 ],
 "metadata": {
  "kernelspec": {
   "display_name": "Python 3",
   "language": "python",
   "name": "python3"
  },
  "language_info": {
   "codemirror_mode": {
    "name": "ipython",
    "version": 3
   },
   "file_extension": ".py",
   "mimetype": "text/x-python",
   "name": "python",
   "nbconvert_exporter": "python",
   "pygments_lexer": "ipython3",
   "version": "3.8.8"
  }
 },
 "nbformat": 4,
 "nbformat_minor": 5
}
