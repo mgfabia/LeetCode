{
 "cells": [
  {
   "cell_type": "code",
   "execution_count": 2,
   "id": "51b0613b",
   "metadata": {},
   "outputs": [],
   "source": [
    "def isAlphaNumeric(self, c):\n",
    "    return(ord('A') <= ord(c) <= ord('Z')or \n",
    "          ord('a') <= ord(c) <= ord('z') or \n",
    "          ord('0') <= ord(c) <= ord('9'))\n",
    "\n",
    "def isPalindrome(s: str) -> bool:\n",
    "    left = 0\n",
    "    right = len(s) -1 \n",
    "    while left < right:\n",
    "        while not self.isAlphaNumeric(s[left]) and left < right:\n",
    "            left+=1\n",
    "        while not self.isAlphaNumeric(s[right]) and right > left:\n",
    "            right-=1\n",
    "        if(ord(s[left].lower()) != ord(s[right].lower())):\n",
    "            return False\n",
    "        left+=1\n",
    "        right-=1\n",
    "    return True\n",
    "\n"
   ]
  },
  {
   "cell_type": "code",
   "execution_count": null,
   "id": "d3ec04d0",
   "metadata": {},
   "outputs": [],
   "source": [
    "string = \"A man, a plan, a canal: Panama\"\n",
    "print(isPalindrome(string))"
   ]
  }
 ],
 "metadata": {
  "kernelspec": {
   "display_name": "Python 3",
   "language": "python",
   "name": "python3"
  },
  "language_info": {
   "codemirror_mode": {
    "name": "ipython",
    "version": 3
   },
   "file_extension": ".py",
   "mimetype": "text/x-python",
   "name": "python",
   "nbconvert_exporter": "python",
   "pygments_lexer": "ipython3",
   "version": "3.8.8"
  }
 },
 "nbformat": 4,
 "nbformat_minor": 5
}
