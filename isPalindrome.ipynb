{
 "cells": [
  {
   "cell_type": "code",
   "execution_count": 4,
   "id": "1d573be8",
   "metadata": {},
   "outputs": [],
   "source": [
    "def isAlphaNumeric( c):\n",
    "    return(ord('A') <= ord(c) <= ord('Z')or \n",
    "          ord('a') <= ord(c) <= ord('z') or \n",
    "          ord('0') <= ord(c) <= ord('9'))\n",
    "\n",
    "def isPalindrome(s: str) -> bool:\n",
    "    left = 0\n",
    "    right = len(s) -1 \n",
    "    while left < right:\n",
    "        while not isAlphaNumeric(s[left]) and left < right:\n",
    "            left+=1\n",
    "        while not isAlphaNumeric(s[right]) and right > left:\n",
    "            right-=1\n",
    "        if(ord(s[left].lower()) != ord(s[right].lower())):\n",
    "            return False\n",
    "        left+=1\n",
    "        right-=1\n",
    "    return True\n",
    "\n"
   ]
  },
  {
   "cell_type": "code",
   "execution_count": 5,
   "id": "4dd4fca2",
   "metadata": {},
   "outputs": [
    {
     "name": "stdout",
     "output_type": "stream",
     "text": [
      "True\n"
     ]
    }
   ],
   "source": [
    "string = \"A man, a plan, a canal: Panama\"\n",
    "print(isPalindrome(string))"
   ]
  },
  {
   "cell_type": "code",
   "execution_count": null,
   "id": "ad5d9d82",
   "metadata": {},
   "outputs": [],
   "source": []
  }
 ],
 "metadata": {
  "kernelspec": {
   "display_name": "Python 3",
   "language": "python",
   "name": "python3"
  },
  "language_info": {
   "codemirror_mode": {
    "name": "ipython",
    "version": 3
   },
   "file_extension": ".py",
   "mimetype": "text/x-python",
   "name": "python",
   "nbconvert_exporter": "python",
   "pygments_lexer": "ipython3",
   "version": "3.8.8"
  }
 },
 "nbformat": 4,
 "nbformat_minor": 5
}
