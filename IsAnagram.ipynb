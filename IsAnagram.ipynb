{
 "cells": [
  {
   "cell_type": "code",
   "execution_count": 6,
   "id": "b026fcbf",
   "metadata": {},
   "outputs": [],
   "source": [
    "def isAnagram(s:str,t:str) -> bool:\n",
    "    countS = {}\n",
    "    countT = {}\n",
    "    if len(s) != len(t):\n",
    "        return False\n",
    "    \n",
    "\n",
    "    #first map strings to a dictionary. Key is the letter and the value is the occurences \n",
    "    for i in range(len(s)):\n",
    "        countS[s[i]] = 1 + countS.get(s[i],0)\n",
    "        countT[t[i]] = 1 + countT.get(t[i],0)\n",
    "    for c in countS:\n",
    "        if countS[c] != countT[c]:\n",
    "            return False\n",
    "    return True\n",
    "        \n",
    "        \n",
    "        \n",
    "    "
   ]
  },
  {
   "cell_type": "code",
   "execution_count": 7,
   "id": "9322d744",
   "metadata": {},
   "outputs": [
    {
     "name": "stdout",
     "output_type": "stream",
     "text": [
      "True\n"
     ]
    }
   ],
   "source": [
    "s = \"secure\"\n",
    "t = \"rescue\"\n",
    "print(isAnagram(s,t))"
   ]
  },
  {
   "cell_type": "code",
   "execution_count": null,
   "id": "85db21c5",
   "metadata": {},
   "outputs": [],
   "source": []
  },
  {
   "cell_type": "code",
   "execution_count": null,
   "id": "f5b3b597",
   "metadata": {},
   "outputs": [],
   "source": []
  }
 ],
 "metadata": {
  "kernelspec": {
   "display_name": "Python 3",
   "language": "python",
   "name": "python3"
  },
  "language_info": {
   "codemirror_mode": {
    "name": "ipython",
    "version": 3
   },
   "file_extension": ".py",
   "mimetype": "text/x-python",
   "name": "python",
   "nbconvert_exporter": "python",
   "pygments_lexer": "ipython3",
   "version": "3.8.8"
  }
 },
 "nbformat": 4,
 "nbformat_minor": 5
}
